{
 "cells": [
  {
   "cell_type": "code",
   "execution_count": 23,
   "metadata": {
    "collapsed": true
   },
   "outputs": [],
   "source": [
    "import torch\n",
    "import torch.nn as nn\n",
    "from torch import optim\n",
    "import torch.nn.functional as F\n",
    "import matplotlib.pyplot as plt\n",
    "%matplotlib inline \n",
    "plt.switch_backend('agg')\n",
    "import matplotlib.ticker as ticker\n",
    "import numpy as np\n",
    "from torch.autograd import Variable"
   ]
  },
  {
   "cell_type": "code",
   "execution_count": 34,
   "metadata": {},
   "outputs": [],
   "source": [
    "class CnnMusic(nn.Module):\n",
    "    def __init__(self):\n",
    "        super(CnnMusic, self).__init__()\n",
    "        self.d_conv1 = nn.Conv1d(2, 8, 3, padding=1)\n",
    "        self.d_conv2 = nn.Conv1d(8, 16, 3, padding=1)\n",
    "        self.d_conv3 = nn.Conv1d(16, 32, 3, padding=1)\n",
    "        self.l_conv1 = nn.Conv1d(32, 16, 1)\n",
    "        self.u_conv1 = nn.ConvTranspose1d(16, 16, 3, padding=1, output_padding=1, stride=2)\n",
    "        self.l_conv2 = nn.Conv1d(16, 8, 1)\n",
    "        self.u_conv2 = nn.ConvTranspose1d(8, 8, 3, padding=1, output_padding=1, stride=2)\n",
    "        self.l_conv3 = nn.Conv1d(8, 4, 1)\n",
    "        self.u_conv3 = nn.ConvTranspose1d(4, 4, 3, padding=1, output_padding=1, stride=2)\n",
    "        self.l_conv4 = nn.Conv1d(4, 1, 1)\n",
    "\n",
    "    def forward(self, x):\n",
    "        x = F.max_pool1d(self.d_conv1(x),2)\n",
    "        x = F.max_pool1d(self.d_conv2(x),2)\n",
    "        x = F.max_pool1d(self.d_conv3(x),2)\n",
    "        x = self.u_conv1(self.l_conv1(x))\n",
    "        x = self.u_conv2(self.l_conv2(x))\n",
    "        x = self.u_conv3(self.l_conv3(x))\n",
    "        x = F.sigmoid(self.l_conv4(x))\n",
    "        return x"
   ]
  },
  {
   "cell_type": "code",
   "execution_count": 35,
   "metadata": {},
   "outputs": [
    {
     "name": "stdout",
     "output_type": "stream",
     "text": [
      "torch.Size([1, 2, 512])\n",
      "torch.Size([1, 1, 512])\n"
     ]
    }
   ],
   "source": [
    "model=CnnMusic()\n",
    "x=torch.from_numpy(np.random.randn(1,2,512)).float()\n",
    "print(x.shape)\n",
    "y=model(x)\n",
    "print(y.shape)"
   ]
  },
  {
   "cell_type": "code",
   "execution_count": null,
   "metadata": {
    "collapsed": true
   },
   "outputs": [],
   "source": []
  }
 ],
 "metadata": {
  "kernelspec": {
   "display_name": "Python 3",
   "language": "python",
   "name": "python3"
  },
  "language_info": {
   "codemirror_mode": {
    "name": "ipython",
    "version": 3
   },
   "file_extension": ".py",
   "mimetype": "text/x-python",
   "name": "python",
   "nbconvert_exporter": "python",
   "pygments_lexer": "ipython3",
   "version": "3.6.1"
  }
 },
 "nbformat": 4,
 "nbformat_minor": 2
}
